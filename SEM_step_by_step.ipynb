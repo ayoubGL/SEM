{
 "cells": [
  {
   "cell_type": "markdown",
   "metadata": {},
   "source": [
    "```In this notebook I will discover how to perform a Stractural Equation Modeling```\n",
    "\n",
    "- Ayoub El Majjodi\n",
    "- copyright@22"
   ]
  },
  {
   "cell_type": "markdown",
   "metadata": {},
   "source": [
    "- Stractural Equation models are models that explain relationship between __measured__ __variables__ and __latent__ __variable__ and relationship __between latent __variables__.\n",
    "\n",
    "- A great example of a latent variable that cannot really be measured directly is Intelligence. We have plenty of school exams, IQ tests, psych tests to measure a concept like intelligence, but they always come down to"
   ]
  },
  {
   "cell_type": "markdown",
   "metadata": {},
   "source": [
    "### When to use Structural Equation Modeling \n",
    "\n",
    "- If you want to use SEM, you must try to identify the underlying concept that is important but not measurable.\n",
    "- SEM applies mostly as a confirmation and testing method.\n",
    "- SEM are useful, they help to learn the relationship between different variables of a phenomena.\n",
    "- SEM give you estimates of coefficients based on the hypothesized relationships between variables.\n",
    "\n",
    "### Types of SEM\n",
    "\n",
    "- Confirmatory Factor Analysis\n",
    "- Confirmatory Composite Analysis\n",
    "- Path Analysis\n",
    "- Partial Least Squares Path Modeling\n",
    "- Latent Growth modeling"
   ]
  },
  {
   "cell_type": "markdown",
   "metadata": {},
   "source": [
    "### Example\n",
    "\n",
    "- The Example will be about performance at work. The most important variable of this project is __Job____Performance__. \n",
    "- The __Job____Performance__ is estimated based on three measured variables:\n",
    "    -  ClientSat: A satisfaction rating between 1 and 100.\n",
    "    -  SuperSat:  A rating on job performance between 1 and 100.\n",
    "    -  PeojectComp: The percentage of your project that was successfully.\n",
    " - Hypothesis: Job performance is strongly impacted by three other latent variables: **Social Skills, Intellectual Skills and motivation**\n",
    " - Latent Social skills:PsychTest 1, PsychTest 2\n",
    " - Motivation: HrsTrain, HrsWrk.\n",
    "\n",
    " - The structural Equation Model often follows some general practices:\n",
    "    - Latent Variables are denote by a circle\n",
    "    - Measured Variables are denoted by a square\n",
    "    - Relationships are denoted by arrows.\n",
    "    - Variances and residuals are denoted by arrows from a variable to itself\n",
    "\n",
    "<img src=\"./SEM.png\">"
   ]
  },
  {
   "cell_type": "markdown",
   "metadata": {},
   "source": [
    "The goal of structural Equation modeling techniques is to estimate coefficients for each of the arrows in your diagram."
   ]
  },
  {
   "cell_type": "markdown",
   "metadata": {},
   "source": [
    "## Applying SEM in R"
   ]
  },
  {
   "cell_type": "code",
   "execution_count": null,
   "metadata": {
    "vscode": {
     "languageId": "r"
    }
   },
   "outputs": [],
   "source": [
    "ata"
   ]
  }
 ],
 "metadata": {
  "kernelspec": {
   "display_name": "R",
   "language": "R",
   "name": "ir"
  },
  "language_info": {
   "name": "R"
  },
  "orig_nbformat": 4
 },
 "nbformat": 4,
 "nbformat_minor": 2
}
