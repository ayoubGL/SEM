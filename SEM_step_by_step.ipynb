{
 "cells": [
  {
   "cell_type": "markdown",
   "metadata": {},
   "source": [
    "```In this notebook I will discover how to perform a Stractural Equation Modeling```\n",
    "\n",
    "- Ayoub El Majjodi\n",
    "- copyright@22"
   ]
  },
  {
   "cell_type": "markdown",
   "metadata": {},
   "source": [
    "- Stractural Equation models are models that explain relationship between __measured__ __variables__ and __latent__ __variable__ and relationship __between latent __variables__.\n",
    "\n",
    "- A great example of a latent variable that cannot really be measured directly is Intelligence. We have plenty of school exams, IQ tests, psych tests to measure a concept like intelligence, but they always come down to"
   ]
  },
  {
   "cell_type": "markdown",
   "metadata": {},
   "source": [
    "### When to use Structural Equation Modeling \n",
    "\n",
    "- If you want to use SEM, you must try to identify the underlying concept that is important but not measurable.\n",
    "- SEM applies mostly as a confirmation and testing method.\n",
    "- SEM are useful, they help to learn the relationship between different variables of a phenomena.\n",
    "- SEM give you estimates of coefficients based on the hypothesized relationships between variables.\n",
    "\n",
    "### Types of SEM\n",
    "\n",
    "- Confirmatory Factor Analysis\n",
    "- Confirmatory Composite Analysis\n",
    "- Path Analysis\n",
    "- Partial Least Squares Path Modeling\n",
    "- Latent Growth modeling"
   ]
  },
  {
   "cell_type": "code",
   "execution_count": null,
   "metadata": {
    "vscode": {
     "languageId": "r"
    }
   },
   "outputs": [
    {
     "ename": "",
     "evalue": "",
     "output_type": "error",
     "traceback": [
      "\u001b[1;31mFailed to start the Kernel. \n",
      "View Jupyter <a href='command:jupyter.viewOutput'>log</a> for further details."
     ]
    }
   ],
   "source": [
    "### Example\n",
    "\n",
    "- The Example will be about performance at work. The "
   ]
  },
  {
   "cell_type": "code",
   "execution_count": null,
   "metadata": {
    "vscode": {
     "languageId": "r"
    }
   },
   "outputs": [],
   "source": []
  }
 ],
 "metadata": {
  "kernelspec": {
   "display_name": "R",
   "language": "R",
   "name": "ir"
  },
  "language_info": {
   "name": "R"
  },
  "orig_nbformat": 4
 },
 "nbformat": 4,
 "nbformat_minor": 2
}
