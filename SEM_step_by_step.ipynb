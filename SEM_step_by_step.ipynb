{
 "cells": [
  {
   "cell_type": "markdown",
   "metadata": {},
   "source": [
    "```In this notebook I will discover how to perform a Stractural Equation Modeling```\n",
    "\n",
    "- Ayoub El Majjodi\n",
    "- copyright@22"
   ]
  },
  {
   "cell_type": "markdown",
   "metadata": {},
   "source": [
    "- Stractural Equation models are models that explain relationship between __measured__ __variables__ and __latent__ __variable__ and relationship __between latent __variables__.\n",
    "\n",
    "- A great example of a latent variable that cannot really be measured directly is Intelligence. We have plenty of school exams, IQ tests, psych tests to measure a concept like intelligence, but they always come down to"
   ]
  },
  {
   "cell_type": "markdown",
   "metadata": {},
   "source": [
    "### When to use Structural Equation Modeling \n",
    "\n",
    "- If you want to use SEM, you must try to identify the underlying concept that is important but not measurable.\n",
    "- SEM applies mostly as a confirmation and testing method.\n",
    "- SEM are useful, they help to learn the relationship between different variables of a phenomena.\n",
    "- SEM give you estimates of coefficients based on the hypothesized relationships between variables.\n",
    "\n",
    "### Types of SEM\n",
    "\n",
    "- Confirmatory Factor Analysis\n",
    "- Confirmatory Composite Analysis\n",
    "- Path Analysis\n",
    "- Partial Least Squares Path Modeling\n",
    "- Latent Growth modeling"
   ]
  },
  {
   "cell_type": "markdown",
   "metadata": {},
   "source": [
    "### Example\n",
    "\n",
    "- The Example will be about performance at work. The most important variable of this project is __Job____Performance__. \n",
    "- The __Job____Performance__ is estimated based on three measured variables:\n",
    "    -  ClientSat: A satisfaction rating between 1 and 100.\n",
    "    -  SuperSat:  A rating on job performance between 1 and 100.\n",
    "    -  PeojectComp: The percentage of your project that was successfully.\n",
    " - Hypothesis: Job performance is strongly impacted by three other latent variables: **Social Skills, Intellectual Skills and motivation**\n",
    " - Latent Social skills:PsychTest 1, PsychTest 2\n",
    " - Motivation: HrsTrain, HrsWrk.\n",
    "\n",
    " - The structural Equation Model often follows some general practices:\n",
    "    - Latent Variables are denote by a circle\n",
    "    - Measured Variables are denoted by a square\n",
    "    - Relationships are denoted by arrows.\n",
    "    - Variances and residuals are denoted by arrows from a variable to itself\n",
    "\n",
    "<img src=\"./SEM.png\">"
   ]
  },
  {
   "cell_type": "markdown",
   "metadata": {},
   "source": [
    "The goal of structural Equation modeling techniques is to estimate coefficients for each of the arrows in your diagram."
   ]
  },
  {
   "cell_type": "markdown",
   "metadata": {},
   "source": [
    "## Applying SEM in R"
   ]
  },
  {
   "cell_type": "code",
   "execution_count": 12,
   "metadata": {
    "vscode": {
     "languageId": "r"
    }
   },
   "outputs": [
    {
     "data": {
      "text/html": [
       "<style>\n",
       ".list-inline {list-style: none; margin:0; padding: 0}\n",
       ".list-inline>li {display: inline-block}\n",
       ".list-inline>li:not(:last-child)::after {content: \"\\00b7\"; padding: 0 .5ex}\n",
       "</style>\n",
       "<ol class=list-inline><li>'PsychTest1'</li><li>'PsychTest2'</li><li>'YrsEdu'</li><li>'IQ'</li><li>'HrsTrn'</li><li>'HrsWrk'</li><li>'ClientSat'</li><li>'SuperSat'</li><li>'ProjCompl'</li></ol>\n"
      ],
      "text/latex": [
       "\\begin{enumerate*}\n",
       "\\item 'PsychTest1'\n",
       "\\item 'PsychTest2'\n",
       "\\item 'YrsEdu'\n",
       "\\item 'IQ'\n",
       "\\item 'HrsTrn'\n",
       "\\item 'HrsWrk'\n",
       "\\item 'ClientSat'\n",
       "\\item 'SuperSat'\n",
       "\\item 'ProjCompl'\n",
       "\\end{enumerate*}\n"
      ],
      "text/markdown": [
       "1. 'PsychTest1'\n",
       "2. 'PsychTest2'\n",
       "3. 'YrsEdu'\n",
       "4. 'IQ'\n",
       "5. 'HrsTrn'\n",
       "6. 'HrsWrk'\n",
       "7. 'ClientSat'\n",
       "8. 'SuperSat'\n",
       "9. 'ProjCompl'\n",
       "\n",
       "\n"
      ],
      "text/plain": [
       "[1] \"PsychTest1\" \"PsychTest2\" \"YrsEdu\"     \"IQ\"         \"HrsTrn\"    \n",
       "[6] \"HrsWrk\"     \"ClientSat\"  \"SuperSat\"   \"ProjCompl\" "
      ]
     },
     "metadata": {},
     "output_type": "display_data"
    }
   ],
   "source": [
    "data <- read.csv('https://articledatas3.s3.eu-central-1.amazonaws.com/StructuralEquationModelingData.csv')\n",
    "names(data)"
   ]
  },
  {
   "cell_type": "markdown",
   "metadata": {
    "vscode": {
     "languageId": "r"
    }
   },
   "source": [
    "### Lavaan is a great package of Structural Equation Modeling: it is well documented, easy-to-use and coherent with the syntax of other R packages."
   ]
  },
  {
   "cell_type": "code",
   "execution_count": 4,
   "metadata": {},
   "outputs": [],
   "source": [
    "library(lavaan)"
   ]
  },
  {
   "cell_type": "markdown",
   "metadata": {},
   "source": [
    "- Describe the model that we want to fit.  It should represent the architecture that we have drwan in the diagram before.\n",
    "- There are three different types of relations that we can specify:\n",
    "    - `=~`: symbol for definition of a latent variable as follows:  a_latent_variable =~ measured_var_1 + measured_var_2\n",
    "    - `~`: symbol for a regression from one latent variable latent_variable_1 ~ latent_variable_2 + latent_variable_3\n",
    "    - `~~`: measured_var_1 ~~ measured_var_2"
   ]
  },
  {
   "cell_type": "code",
   "execution_count": 16,
   "metadata": {},
   "outputs": [],
   "source": [
    "## Create the model\n",
    "model <- '\n",
    "    # measurment model\n",
    "    \n",
    "    JobPref =~ ClientSat + SuperSat + ProjCompl\n",
    "    Social =~ PsychTest1 + PsychTest2\n",
    "    Intellect =~ YrsEdu + IQ\n",
    "    Motivation =~ HrsTrn + HrsWrk\n",
    "    \n",
    "    # regressions\n",
    "    JobPref ~ Social + Intellect + Motivation\n",
    "'"
   ]
  },
  {
   "cell_type": "code",
   "execution_count": 18,
   "metadata": {},
   "outputs": [
    {
     "name": "stderr",
     "output_type": "stream",
     "text": [
      "Warning message in lav_object_post_check(object):\n",
      "“lavaan WARNING: some estimated lv variances are negative”\n"
     ]
    },
    {
     "name": "stdout",
     "output_type": "stream",
     "text": [
      "lavaan 0.6-11 ended normally after 269 iterations\n",
      "\n",
      "  Estimator                                         ML\n",
      "  Optimization method                           NLMINB\n",
      "  Number of model parameters                        24\n",
      "                                                      \n",
      "  Number of observations                          1000\n",
      "                                                      \n",
      "Model Test User Model:\n",
      "                                                      \n",
      "  Test statistic                              3321.607\n",
      "  Degrees of freedom                                21\n",
      "  P-value (Chi-square)                           0.000\n",
      "\n",
      "Parameter Estimates:\n",
      "\n",
      "  Standard errors                             Standard\n",
      "  Information                                 Expected\n",
      "  Information saturated (h1) model          Structured\n",
      "\n",
      "Latent Variables:\n",
      "                   Estimate  Std.Err  z-value  P(>|z|)   Std.lv  Std.all\n",
      "  JobPref =~                                                            \n",
      "    ClientSat         1.000                               5.613    0.312\n",
      "    SuperSat          2.822    0.235   12.004    0.000   15.837    0.922\n",
      "    ProjCompl         3.212    0.269   11.949    0.000   18.031    0.878\n",
      "  Social =~                                                             \n",
      "    PsychTest1        1.000                               6.725    0.669\n",
      "    PsychTest2        2.133    0.080   26.621    0.000   14.345    0.956\n",
      "  Intellect =~                                                          \n",
      "    YrsEdu            1.000                               1.008    0.588\n",
      "    IQ                2.910    0.204   14.231    0.000    2.933    0.789\n",
      "  Motivation =~                                                         \n",
      "    HrsTrn            1.000                               2.030    0.818\n",
      "    HrsWrk           11.833    0.267   44.356    0.000   24.027    0.998\n",
      "\n",
      "Regressions:\n",
      "                   Estimate  Std.Err  z-value  P(>|z|)   Std.lv  Std.all\n",
      "  JobPref ~                                                             \n",
      "    Social            0.325    0.029   11.085    0.000    0.389    0.389\n",
      "    Intellect         0.725    0.077    9.361    0.000    0.130    0.130\n",
      "    Motivation        2.758    0.234   11.769    0.000    0.998    0.998\n",
      "\n",
      "Covariances:\n",
      "                   Estimate  Std.Err  z-value  P(>|z|)   Std.lv  Std.all\n",
      "  Social ~~                                                             \n",
      "    Intellect         0.097    0.270    0.359    0.720    0.014    0.014\n",
      "    Motivation       -0.958    0.454   -2.110    0.035   -0.070   -0.070\n",
      "  Intellect ~~                                                          \n",
      "    Motivation       -0.016    0.078   -0.201    0.841   -0.008   -0.008\n",
      "\n",
      "Variances:\n",
      "                   Estimate  Std.Err  z-value  P(>|z|)   Std.lv  Std.all\n",
      "   .ClientSat       292.277   12.701   23.011    0.000  292.277    0.903\n",
      "   .SuperSat         44.410    2.114   21.005    0.000   44.410    0.150\n",
      "   .ProjCompl        96.387    4.336   22.232    0.000   96.387    0.229\n",
      "   .PsychTest1       55.677    2.572   21.651    0.000   55.677    0.552\n",
      "   .PsychTest2       19.587    3.052    6.417    0.000   19.587    0.087\n",
      "   .YrsEdu            1.926    0.105   18.263    0.000    1.926    0.655\n",
      "   .IQ                5.214    0.566    9.220    0.000    5.214    0.377\n",
      "   .HrsTrn            2.043    0.092   22.113    0.000    2.043    0.331\n",
      "   .HrsWrk            1.996    1.924    1.037    0.300    1.996    0.003\n",
      "   .JobPref          -3.421    0.572   -5.979    0.000   -0.109   -0.109\n",
      "    Social           45.223    3.818   11.846    0.000    1.000    1.000\n",
      "    Intellect         1.016    0.117    8.715    0.000    1.000    1.000\n",
      "    Motivation        4.123    0.261   15.826    0.000    1.000    1.000\n",
      "\n"
     ]
    }
   ],
   "source": [
    "## \n",
    "\n",
    "fit <- sem(model, data = data)\n",
    "summary(fit, standardized = TRUE)"
   ]
  },
  {
   "cell_type": "markdown",
   "metadata": {},
   "source": [
    "#### The Heywood case\n",
    "The Heywood case is relatively common in Structural Equation Modeling when the variance is negative.\n",
    "The common cause for the Heywood case is having too strongly corrleated variables.\n",
    "\n",
    "#### Chi-square Test of the overall SEM\n",
    "This test gives you a p-value that shows you whther your model seems to be explaining an important enough part of the variation in the data.\n",
    "\n",
    "#### RC and SEM\n",
    "How three laten variables Social, Intellect, and Motivation impact Job Performance\n",
    "\n",
    "As we have p-value of the independent variables are less that 0.05, we can conclude that the independent latent variabltes is shown to have an impact on Job Performance.\n",
    "\n",
    "We will look at how much each of the latent independent variables influences Job Performance.\n",
    "\n",
    "### Looking at the estimate \n",
    "    - Motivation has the highest coefficient (2.57), meaning that a change in Motivation will have the largest impact on Job Performance.\n",
    "    - Intellect has the second-highet coefficient 0.72, meaning that intellect has the second highest impact on Job Performance.\n",
    "    - Social skills come in last with a coefficinet of 0.32. Social skills still have an impact on Job Performance, it is just less than Mitvation and intellect.\n",
    "    \n",
    "### Key Take-Aways\n",
    "The statistical indicators have shown that the hypothesized model is a good fit and you finish by concluding that motivation is most important for job Performance, followed in order by intellectual skills and social skills."
   ]
  },
  {
   "cell_type": "code",
   "execution_count": null,
   "metadata": {},
   "outputs": [],
   "source": []
  }
 ],
 "metadata": {
  "kernelspec": {
   "display_name": "R",
   "language": "R",
   "name": "ir"
  },
  "language_info": {
   "codemirror_mode": "r",
   "file_extension": ".r",
   "mimetype": "text/x-r-source",
   "name": "R",
   "pygments_lexer": "r",
   "version": "4.1.1"
  }
 },
 "nbformat": 4,
 "nbformat_minor": 4
}
